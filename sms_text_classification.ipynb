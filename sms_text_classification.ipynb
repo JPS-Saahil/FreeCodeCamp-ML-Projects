{
  "cells": [
    {
      "cell_type": "code",
      "execution_count": null,
      "metadata": {
        "id": "8RZOuS9LWQvv"
      },
      "outputs": [],
      "source": [
        "\n",
        "import numpy as np\n",
        "import matplotlib.pyplot as plt\n",
        "import pandas as pd\n",
        "import tensorflow_datasets as tfds\n",
        "import numpy as np\n",
        "import matplotlib.pyplot as plt"
      ]
    },
    {
      "cell_type": "code",
      "execution_count": null,
      "metadata": {
        "id": "lMHwYXHXCar3"
      },
      "outputs": [],
      "source": [
        "# get data files\n",
        "names = [\"class\", \"message\"]\n",
        "!wget https://cdn.freecodecamp.org/project-data/sms/train-data.tsv\n",
        "!wget https://cdn.freecodecamp.org/project-data/sms/valid-data.tsv\n",
        "\n",
        "train_file_path = \"train-data.tsv\"\n",
        "test_file_path = \"valid-data.tsv\"\n",
        "train_file = pd.read_csv(train_file_path, sep='\\t', names=names)\n",
        "test_file = pd.read_csv(test_file_path, sep='\\t', names=names)"
      ]
    },
    {
      "cell_type": "code",
      "execution_count": null,
      "metadata": {
        "id": "zOMKywn4zReN"
      },
      "outputs": [],
      "source": [
        "test_file = pd.read_csv(test_file_path, sep='\\t', names=names)\n",
        "\n",
        "train_message = train_file[\"message\"].values.tolist()\n",
        "train_label = np.array([0 if x==\"ham\" else 1 for x in train_file['class'].values.tolist()])\n",
        "test_message = test_file[\"message\"].values.tolist()\n",
        "test_label = np.array([0 if x==\"ham\" else 1 for x in test_file['class'].values.tolist()])\n",
        "\n",
        "\n",
        "vocabulary_dict = {}\n",
        "for messgae in train_message:\n",
        "  for vocabulary in messgae.split():\n",
        "    if vocabulary not in vocabulary_dict:\n",
        "      vocabulary_dict[vocabulary] = 1\n",
        "    else:\n",
        "      vocabulary_dict[vocabulary] += 1\n"
      ]
    },
    {
      "cell_type": "code",
      "source": [
        "\n",
        "\n",
        "VOCAB_SIZE = len(vocabulary_dict)\n",
        "MAX_LENGTH = len(max(train_message, key=lambda p: len(p.split())).split())\n",
        "\n"
      ],
      "metadata": {
        "id": "5mk0d4Zm92Gv"
      },
      "execution_count": null,
      "outputs": []
    },
    {
      "cell_type": "code",
      "source": [
        "# Encode train messages\n",
        "from sklearn.feature_extraction.text import CountVectorizer\n",
        "\n",
        "# Initialize CountVectorizer\n",
        "vectorizer = CountVectorizer()\n",
        "\n",
        "# Fit and transform on training messages\n",
        "X_train_encoded = vectorizer.fit_transform(train_message)\n",
        "# Transform test messages\n",
        "X_test_encoded = vectorizer.transform(test_message)\n",
        "\n",
        "# Convert to arrays and pad sequences\n",
        "X_train_padded = X_train_encoded.toarray()\n",
        "X_test_padded = X_test_encoded.toarray()\n"
      ],
      "metadata": {
        "id": "ySf4zjw598Le"
      },
      "execution_count": null,
      "outputs": []
    },
    {
      "cell_type": "code",
      "source": [
        "from sklearn.pipeline import Pipeline\n",
        "from sklearn.linear_model import LogisticRegression\n",
        "from sklearn.metrics import accuracy_score\n",
        "from sklearn.preprocessing import FunctionTransformer\n",
        "\n",
        "# Define a pipeline\n",
        "model = Pipeline([\n",
        "    ('embedding', FunctionTransformer(lambda x: x)),\n",
        "    ('flatten', FunctionTransformer(lambda x: x.reshape((x.shape[0], -1)))),\n",
        "    ('dense', LogisticRegression())\n",
        "])\n",
        "\n",
        "# Train the model\n",
        "model.fit(X_train_padded, train_label)\n",
        "\n",
        "# Evaluate the model\n",
        "train_accuracy = accuracy_score(train_label, model.predict(X_train_padded))\n",
        "test_accuracy = accuracy_score(test_label, model.predict(X_test_padded))\n",
        "\n",
        "print(\"Training Accuracy:\", train_accuracy)\n",
        "print(\"Test Accuracy:\", test_accuracy)\n"
      ],
      "metadata": {
        "id": "17MGyrMX-B5F"
      },
      "execution_count": null,
      "outputs": []
    },
    {
      "cell_type": "code",
      "execution_count": null,
      "metadata": {
        "id": "J9tD9yACG6M9"
      },
      "outputs": [],
      "source": [
        "from sklearn.feature_extraction.text import CountVectorizer\n",
        "\n",
        "def predict_message(pred_text):\n",
        "    class_dict = {0: \"ham\", 1: \"spam\"}\n",
        "\n",
        "    # Transform the text using the CountVectorizer\n",
        "    pred_text_encoded = vectorizer.transform([pred_text])\n",
        "\n",
        "    # Predict the class\n",
        "    prediction_prob = model.predict_proba(pred_text_encoded)[0][1]\n",
        "    prediction_label = class_dict[model.predict(pred_text_encoded)[0]]\n",
        "\n",
        "    return [prediction_prob, prediction_label]\n"
      ]
    },
    {
      "cell_type": "code",
      "execution_count": null,
      "metadata": {
        "id": "Dxotov85SjsC"
      },
      "outputs": [],
      "source": [
        "\n",
        "def test_predictions():\n",
        "  test_messages = [\"how are you doing today\",\n",
        "                   \"sale today! to stop texts call 98912460324\",\n",
        "                   \"i dont want to go. can we try it a different day? available sat\",\n",
        "                   \"our new mobile video service is live. just install on your phone to start watching.\",\n",
        "                   \"you have won £1000 cash! call to claim your prize.\",\n",
        "                   \"i'll bring it tomorrow. don't forget the milk.\",\n",
        "                   \"wow, is your arm alright. that happened to me one time too\"\n",
        "                  ]\n",
        "\n",
        "  test_answers = [\"ham\", \"spam\", \"ham\", \"spam\", \"spam\", \"ham\", \"ham\"]\n",
        "  passed = True\n",
        "\n",
        "  for msg, ans in zip(test_messages, test_answers):\n",
        "    prediction = predict_message(msg)\n",
        "    if prediction[1] != ans:\n",
        "      passed = False\n",
        "\n",
        "  if passed:\n",
        "    print(\"You passed the challenge. Great job!\")\n",
        "  else:\n",
        "    print(\"You haven't passed yet. Keep trying.\")\n",
        "\n",
        "test_predictions()\n",
        "\n"
      ]
    },
    {
      "cell_type": "code",
      "source": [
        "train_message = train_file[\"message\"].values.tolist()\n",
        "train_label = np.array([0 if x==\"ham\" else 1 for x in train_file['class'].values.tolist()])\n",
        "test_message = test_file[\"message\"].values.tolist()\n",
        "test_label = np.array([0 if x==\"ham\" else 1 for x in test_file['class'].values.tolist()])\n",
        "\n",
        "from sklearn.feature_extraction.text import TfidfVectorizer\n",
        "\n",
        "# Initialize TfidfVectorizer\n",
        "vectorizer = TfidfVectorizer()\n",
        "\n",
        "# Fit and transform on training messages\n",
        "X_train_encoded = vectorizer.fit_transform(train_message)\n",
        "# Transform test messages\n",
        "X_test_encoded = vectorizer.transform(test_message)\n",
        "\n",
        "# Convert to arrays and pad sequences\n",
        "X_train_padded = X_train_encoded.toarray()\n",
        "X_test_padded = X_test_encoded.toarray()\n",
        "\n",
        "from sklearn.svm import SVC\n",
        "\n",
        "# Define a pipeline with SVM classifier\n",
        "# Define a pipeline with SVC classifier\n",
        "model = Pipeline([\n",
        "    ('embedding', FunctionTransformer(lambda x: x)),\n",
        "    ('svm', SVC(kernel='linear', probability=True))\n",
        "])\n",
        "\n",
        "# Train the model\n",
        "model.fit(X_train_encoded, train_label)\n",
        "\n",
        "# Evaluate the model\n",
        "train_accuracy = accuracy_score(train_label, model.predict(X_train_encoded))\n",
        "test_accuracy = accuracy_score(test_label, model.predict(X_test_encoded))\n",
        "\n",
        "print(\"Training Accuracy:\", train_accuracy)\n",
        "print(\"Test Accuracy:\", test_accuracy)\n"
      ],
      "metadata": {
        "id": "DWBT-feyCEtu"
      },
      "execution_count": null,
      "outputs": []
    },
    {
      "cell_type": "code",
      "source": [
        "# Function to predict messages based on the trained model\n",
        "def predict_message(pred_text):\n",
        "    class_dict = {0: \"ham\", 1: \"spam\"}\n",
        "\n",
        "    # Transform the text using the TfidfVectorizer\n",
        "    pred_text_encoded = vectorizer.transform([pred_text])\n",
        "\n",
        "    # Predict the class\n",
        "    prediction_prob = model.predict_proba(pred_text_encoded)[0][1]\n",
        "    prediction_label = class_dict[model.predict(pred_text_encoded)[0]]\n",
        "\n",
        "    return [prediction_prob, prediction_label]\n",
        "\n",
        "# Test predictions\n",
        "def test_predictions():\n",
        "    test_messages = [\"how are you doing today\",\n",
        "                    \"sale today! to stop texts call 98912460324\",\n",
        "                    \"i dont want to go. can we try it a different day? available sat\",\n",
        "                    \"our new mobile video service is live. just install on your phone to start watching.\",\n",
        "                    \"you have won £1000 cash! call to claim your prize.\",\n",
        "                    \"i'll bring it tomorrow. don't forget the milk.\",\n",
        "                    \"wow, is your arm alright. that happened to me one time too\"\n",
        "                    ]\n",
        "    test_answers = [\"ham\", \"spam\", \"ham\", \"spam\", \"spam\", \"ham\", \"ham\"]\n",
        "\n",
        "    passed = True\n",
        "\n",
        "    for msg, ans in zip(test_messages, test_answers):\n",
        "        prediction = predict_message(msg)\n",
        "        print(\"Message:\", msg)\n",
        "        print(\"Prediction:\", prediction[1])\n",
        "        print(\"Expected:\", ans)\n",
        "        print(\"--------------------------\")\n",
        "        if prediction[1] != ans:\n",
        "            passed = False\n",
        "\n",
        "    if passed:\n",
        "        print(\"You passed the challenge. Great job!\")\n",
        "    else:\n",
        "        print(\"You haven't passed yet. Keep trying.\")\n",
        "\n",
        "# Test the predictions\n",
        "test_predictions()\n"
      ],
      "metadata": {
        "id": "OemZMJ3OCOc8"
      },
      "execution_count": null,
      "outputs": []
    }
  ],
  "metadata": {
    "colab": {
      "private_outputs": true,
      "provenance": []
    },
    "kernelspec": {
      "display_name": "Python 3",
      "name": "python3"
    },
    "language_info": {}
  },
  "nbformat": 4,
  "nbformat_minor": 0
}